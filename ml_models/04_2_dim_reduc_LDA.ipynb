{
 "cells": [
  {
   "cell_type": "markdown",
   "metadata": {},
   "source": [
    "## Linear Discriminant Analysis (LDA) (Supervised)\n",
    "\n",
    "Linear Discriminant Analysis (LDA) is most commonly used as dimensionality reduction technique in the pre-processing step for pattern-classification and machine learning applications. The goal is to project a dataset onto a lower-dimensional space with good class-separability in order avoid overfitting (\"curse of dimensionality\") and also reduce computational costs. Source: \n",
    "\n",
    "(http://nbviewer.jupyter.org/github/rasbt/pattern_classification/blob/master/dimensionality_reduction/projection/linear_discriminant_analysis.ipynb)\n",
    "\n",
    "\n",
    "Where PCA attempts to find the orthogonal component axes of maximum variance, with LDA we are also interested in finding the feature subspace that optimizes **class separability**. Both are linear transformation techniques, but LDA is supervised.\n",
    "\n",
    "LDA tries to minimize the intra class variations and maximize the inter class variations.\n",
    "\n",
    "One assumption in LDA is that the data is **normally distributed**. Also we assume that the classes have identical covariance matrices and features are statistically independent from each other. However, if one or more of assumptions is slightly violated, the LDA still works reasonably well in some cases.\n",
    "\n",
    "keysteps:\n",
    "+ Step 1: --> standardize the d-dim dataset\n",
    "+ Step 2: --> for each class: compute the d-dim mean vector\n",
    "+ Step 3.1: --> Constuct the Within-class Scatter Matrix $S(w)$\n",
    "+ Step 3.2: --> Construct the Between-class Scatter Matrix $S(b)$\n",
    "+ Step 4: --> Compute eigenvectors and corresponding eigenvalues of Matrix $S(w)S(b)$\n",
    "+ Step 5: --> Choose the k eigenvectors that correspond to the k largest eigenvalues to construct the d x k-dim transformation matrix W (eigenvectors are the columns of this matrix)\n",
    "+ Step 6: --> project the samples onto the new feature subspace using the W-matrix\n",
    "\n",
    "In-depth stats and explanations:\n",
    "https://www.doc.ic.ac.uk/~dfg/ProbabilisticInference/old_IDAPILecture15.pdf"
   ]
  },
  {
   "cell_type": "code",
   "execution_count": 1,
   "metadata": {},
   "outputs": [],
   "source": [
    "import pandas as pd\n",
    "import numpy as np\n",
    "import matplotlib.pyplot as plt\n",
    "from sklearn.model_selection import train_test_split\n",
    "import sys\n",
    "sys.path.insert(0, 'helper_functions/')"
   ]
  },
  {
   "cell_type": "code",
   "execution_count": 2,
   "metadata": {},
   "outputs": [
    {
     "data": {
      "text/html": [
       "<div>\n",
       "<style scoped>\n",
       "    .dataframe tbody tr th:only-of-type {\n",
       "        vertical-align: middle;\n",
       "    }\n",
       "\n",
       "    .dataframe tbody tr th {\n",
       "        vertical-align: top;\n",
       "    }\n",
       "\n",
       "    .dataframe thead th {\n",
       "        text-align: right;\n",
       "    }\n",
       "</style>\n",
       "<table border=\"1\" class=\"dataframe\">\n",
       "  <thead>\n",
       "    <tr style=\"text-align: right;\">\n",
       "      <th></th>\n",
       "      <th>Class label</th>\n",
       "      <th>Alcohol</th>\n",
       "      <th>Malic acid</th>\n",
       "      <th>Ash</th>\n",
       "      <th>Alcalinity of ash</th>\n",
       "      <th>Magnesium</th>\n",
       "      <th>Total phenols</th>\n",
       "      <th>Flavanoids</th>\n",
       "      <th>Nonflavanoid phenols</th>\n",
       "      <th>Proanthocyanins</th>\n",
       "      <th>Color intensity</th>\n",
       "      <th>Hue</th>\n",
       "      <th>OD280/OD315 of diluted wines</th>\n",
       "      <th>Proline</th>\n",
       "    </tr>\n",
       "  </thead>\n",
       "  <tbody>\n",
       "    <tr>\n",
       "      <th>0</th>\n",
       "      <td>1</td>\n",
       "      <td>14.23</td>\n",
       "      <td>1.71</td>\n",
       "      <td>2.43</td>\n",
       "      <td>15.6</td>\n",
       "      <td>127</td>\n",
       "      <td>2.80</td>\n",
       "      <td>3.06</td>\n",
       "      <td>0.28</td>\n",
       "      <td>2.29</td>\n",
       "      <td>5.64</td>\n",
       "      <td>1.04</td>\n",
       "      <td>3.92</td>\n",
       "      <td>1065</td>\n",
       "    </tr>\n",
       "    <tr>\n",
       "      <th>1</th>\n",
       "      <td>1</td>\n",
       "      <td>13.20</td>\n",
       "      <td>1.78</td>\n",
       "      <td>2.14</td>\n",
       "      <td>11.2</td>\n",
       "      <td>100</td>\n",
       "      <td>2.65</td>\n",
       "      <td>2.76</td>\n",
       "      <td>0.26</td>\n",
       "      <td>1.28</td>\n",
       "      <td>4.38</td>\n",
       "      <td>1.05</td>\n",
       "      <td>3.40</td>\n",
       "      <td>1050</td>\n",
       "    </tr>\n",
       "    <tr>\n",
       "      <th>2</th>\n",
       "      <td>1</td>\n",
       "      <td>13.16</td>\n",
       "      <td>2.36</td>\n",
       "      <td>2.67</td>\n",
       "      <td>18.6</td>\n",
       "      <td>101</td>\n",
       "      <td>2.80</td>\n",
       "      <td>3.24</td>\n",
       "      <td>0.30</td>\n",
       "      <td>2.81</td>\n",
       "      <td>5.68</td>\n",
       "      <td>1.03</td>\n",
       "      <td>3.17</td>\n",
       "      <td>1185</td>\n",
       "    </tr>\n",
       "    <tr>\n",
       "      <th>3</th>\n",
       "      <td>1</td>\n",
       "      <td>14.37</td>\n",
       "      <td>1.95</td>\n",
       "      <td>2.50</td>\n",
       "      <td>16.8</td>\n",
       "      <td>113</td>\n",
       "      <td>3.85</td>\n",
       "      <td>3.49</td>\n",
       "      <td>0.24</td>\n",
       "      <td>2.18</td>\n",
       "      <td>7.80</td>\n",
       "      <td>0.86</td>\n",
       "      <td>3.45</td>\n",
       "      <td>1480</td>\n",
       "    </tr>\n",
       "    <tr>\n",
       "      <th>4</th>\n",
       "      <td>1</td>\n",
       "      <td>13.24</td>\n",
       "      <td>2.59</td>\n",
       "      <td>2.87</td>\n",
       "      <td>21.0</td>\n",
       "      <td>118</td>\n",
       "      <td>2.80</td>\n",
       "      <td>2.69</td>\n",
       "      <td>0.39</td>\n",
       "      <td>1.82</td>\n",
       "      <td>4.32</td>\n",
       "      <td>1.04</td>\n",
       "      <td>2.93</td>\n",
       "      <td>735</td>\n",
       "    </tr>\n",
       "  </tbody>\n",
       "</table>\n",
       "</div>"
      ],
      "text/plain": [
       "   Class label  Alcohol  Malic acid   Ash  Alcalinity of ash  Magnesium  \\\n",
       "0            1    14.23        1.71  2.43               15.6        127   \n",
       "1            1    13.20        1.78  2.14               11.2        100   \n",
       "2            1    13.16        2.36  2.67               18.6        101   \n",
       "3            1    14.37        1.95  2.50               16.8        113   \n",
       "4            1    13.24        2.59  2.87               21.0        118   \n",
       "\n",
       "   Total phenols  Flavanoids  Nonflavanoid phenols  Proanthocyanins  \\\n",
       "0           2.80        3.06                  0.28             2.29   \n",
       "1           2.65        2.76                  0.26             1.28   \n",
       "2           2.80        3.24                  0.30             2.81   \n",
       "3           3.85        3.49                  0.24             2.18   \n",
       "4           2.80        2.69                  0.39             1.82   \n",
       "\n",
       "   Color intensity   Hue  OD280/OD315 of diluted wines  Proline  \n",
       "0             5.64  1.04                          3.92     1065  \n",
       "1             4.38  1.05                          3.40     1050  \n",
       "2             5.68  1.03                          3.17     1185  \n",
       "3             7.80  0.86                          3.45     1480  \n",
       "4             4.32  1.04                          2.93      735  "
      ]
     },
     "execution_count": 2,
     "metadata": {},
     "output_type": "execute_result"
    }
   ],
   "source": [
    "df_wine = pd.read_csv('https://raw.githubusercontent.com/rasbt/python-machine-learning-book/master/code/datasets/wine/wine.data', header=None)\n",
    "\n",
    "df_wine.columns = ['Class label', 'Alcohol', 'Malic acid', 'Ash', \n",
    "                   'Alcalinity of ash', 'Magnesium', 'Total phenols', \n",
    "                   'Flavanoids', 'Nonflavanoid phenols', 'Proanthocyanins', \n",
    "                   'Color intensity', 'Hue', 'OD280/OD315 of diluted wines', \n",
    "                   'Proline']\n",
    "df_wine.head()"
   ]
  },
  {
   "cell_type": "code",
   "execution_count": 3,
   "metadata": {},
   "outputs": [],
   "source": [
    "# Test, train set\n",
    "X = df_wine.iloc[:, 1:].values \n",
    "y = df_wine.iloc[:, 0].values\n",
    "\n",
    "X_train, X_test, y_train, y_test = train_test_split(X, y, test_size = 0.3, \n",
    "                                                    random_state = 0)\n",
    "\n",
    "# no features and class_labels\n",
    "n_features = X.shape[1] # num features\n",
    "class_labels = np.unique(y)"
   ]
  },
  {
   "cell_type": "markdown",
   "metadata": {},
   "source": [
    "### Manually construct a LDA. Steps: "
   ]
  },
  {
   "cell_type": "code",
   "execution_count": 4,
   "metadata": {},
   "outputs": [],
   "source": [
    "# Step 1: --> standardize the d-dim dataset\n",
    "from sklearn.preprocessing import StandardScaler\n",
    "sc= StandardScaler()\n",
    "X_train_std = sc.fit_transform(X_train)\n",
    "X_test_std = sc.fit_transform(X_test)"
   ]
  },
  {
   "cell_type": "markdown",
   "metadata": {},
   "source": [
    "Note: standardization does **not** change the overall results of an LDA and thus may be optional. Yes, the scatter matrices will be different depending on whether the features were scaled or not. In addition, the eigenvectors will be different as well. However, **the important part is that the eigenvalues will be exactly the same as well as the final projects** -- the only difference you'll notice is the scaling of the component axes"
   ]
  },
  {
   "cell_type": "code",
   "execution_count": 5,
   "metadata": {},
   "outputs": [
    {
     "name": "stdout",
     "output_type": "stream",
     "text": [
      "Mean vectors 1 : [ 0.9259 -0.3091  0.2592 -0.7989  0.3039  0.9608  1.0515 -0.6306  0.5354\n",
      "  0.2209  0.4855  0.798   1.2017]\n",
      "\n",
      "Mean vectors 2 : [-0.8727 -0.3854 -0.4437  0.2481 -0.2409 -0.1059  0.0187 -0.0164  0.1095\n",
      " -0.8796  0.4392  0.2776 -0.7016]\n",
      "\n",
      "Mean vectors 3 : [ 0.1637  0.8929  0.3249  0.5658 -0.01   -0.9499 -1.228   0.7436 -0.7652\n",
      "  0.979  -1.1698 -1.3007 -0.3912]\n",
      "\n"
     ]
    }
   ],
   "source": [
    "# Step 2: --> calculating the mean vectors for each class\n",
    "np.set_printoptions(precision=4)\n",
    "\n",
    "mean_vectors = []\n",
    "for label in class_labels:\n",
    "    mean_vectors.append(np.mean(X_train_std[y_train == label], axis=0)) \n",
    "    print ('Mean vectors {} : {}\\n'.format(label, mean_vectors[label - 1]))"
   ]
  },
  {
   "cell_type": "code",
   "execution_count": 6,
   "metadata": {},
   "outputs": [
    {
     "data": {
      "text/plain": [
       "array([40, 49, 35])"
      ]
     },
     "execution_count": 6,
     "metadata": {},
     "output_type": "execute_result"
    }
   ],
   "source": [
    "# Step 3.1: --> Constuct the Within-class Scatter Matrix\n",
    "\n",
    "# Check carefully if class labels are uniformly distributed. This is not the case! **\n",
    "np.bincount(y_train)[1:]"
   ]
  },
  {
   "cell_type": "code",
   "execution_count": 8,
   "metadata": {},
   "outputs": [
    {
     "name": "stdout",
     "output_type": "stream",
     "text": [
      "Within-class Scatter Matrix:(13, 13)\n",
      " [[ 1.2458e+00  5.1385e-02 -3.2946e-02 -8.9533e-02  1.1546e-01  2.4539e-01\n",
      "   1.5011e-01 -5.5687e-02  9.9079e-02  4.8786e-01  2.3763e-02 -6.9716e-03\n",
      "   1.3421e-01]\n",
      " [ 5.1385e-02  2.1547e+00  2.2434e-01  3.5434e-01 -1.9660e-01  3.6054e-02\n",
      "  -5.4027e-03  3.4017e-01  1.6840e-01 -1.6748e-01 -3.5755e-01  1.7728e-01\n",
      "  -2.5417e-01]\n",
      " [-3.2946e-02  2.2434e-01  2.5250e+00  1.4581e+00  3.7029e-01  3.3665e-01\n",
      "   2.3874e-01  4.7135e-01  3.0912e-02 -5.6416e-02  1.2842e-01  2.3408e-01\n",
      "  -1.0665e-01]\n",
      " [-8.9533e-02  3.5434e-01  1.4581e+00  1.9805e+00  8.1397e-02  1.1795e-01\n",
      "   1.2522e-01  3.2764e-01 -3.7325e-02 -1.2945e-01  6.1622e-02  2.5545e-01\n",
      "  -1.2909e-01]\n",
      " [ 1.1546e-01 -1.9660e-01  3.7029e-01  8.1397e-02  2.7048e+00  1.6042e-01\n",
      "   1.4980e-01 -7.3692e-01  5.9847e-01  7.6183e-02  1.1849e-01 -1.1342e-01\n",
      "   3.1797e-01]\n",
      " [ 2.4539e-01  3.6054e-02  3.3665e-01  1.1795e-01  1.6042e-01  1.2976e+00\n",
      "   6.1556e-01 -1.1631e-01  7.2183e-01  3.0402e-01  7.1530e-03  3.6115e-01\n",
      "   1.5998e-01]\n",
      " [ 1.5011e-01 -5.4027e-03  2.3874e-01  1.2522e-01  1.4980e-01  6.1556e-01\n",
      "   6.2238e-01 -3.4531e-01  5.9821e-01  2.6033e-01  2.0070e-03  1.6781e-01\n",
      "   4.9200e-02]\n",
      " [-5.5687e-02  3.4017e-01  4.7135e-01  3.2764e-01 -7.3692e-01 -1.1631e-01\n",
      "  -3.4531e-01  2.2058e+00 -1.7930e-01 -2.8542e-02  1.1931e-01 -1.0961e-01\n",
      "  -8.2535e-02]\n",
      " [ 9.9079e-02  1.6840e-01  3.0912e-02 -3.7325e-02  5.9847e-01  7.2183e-01\n",
      "   5.9821e-01 -1.7930e-01  2.1073e+00  5.0681e-01 -1.2493e-01  1.8138e-01\n",
      "   2.6905e-01]\n",
      " [ 4.8786e-01 -1.6748e-01 -5.6416e-02 -1.2945e-01  7.6183e-02  3.0402e-01\n",
      "   2.6033e-01 -2.8542e-02  5.0681e-01  1.3968e+00 -2.8594e-01 -1.5359e-01\n",
      "   2.9284e-01]\n",
      " [ 2.3763e-02 -3.5755e-01  1.2842e-01  6.1622e-02  1.1849e-01  7.1530e-03\n",
      "   2.0070e-03  1.1931e-01 -1.2493e-01 -2.8594e-01  1.3041e+00 -1.1541e-02\n",
      "   1.3149e-01]\n",
      " [-6.9716e-03  1.7728e-01  2.3408e-01  2.5545e-01 -1.1342e-01  3.6115e-01\n",
      "   1.6781e-01 -1.0961e-01  1.8138e-01 -1.5359e-01 -1.1541e-02  8.2807e-01\n",
      "  -1.6327e-01]\n",
      " [ 1.3421e-01 -2.5417e-01 -1.0665e-01 -1.2909e-01  3.1797e-01  1.5998e-01\n",
      "   4.9200e-02 -8.2535e-02  2.6905e-01  2.9284e-01  1.3149e-01 -1.6327e-01\n",
      "   8.9568e-01]]\n"
     ]
    }
   ],
   "source": [
    "S_W = np.zeros((n_features, n_features))\n",
    "\n",
    "for label, mv in zip(range(1, 4), mean_vectors):\n",
    "    class_scatter = np.cov(X_train_std[y_train == label].T) # ** so we need np.cov\n",
    "    S_W += class_scatter\n",
    "    \n",
    "print ('Within-class Scatter Matrix:{}\\n {}'.format(S_W.shape, S_W))"
   ]
  },
  {
   "cell_type": "markdown",
   "metadata": {},
   "source": [
    "This a a crucial matrix because the approach of the LDA is to project all the data points into new space,of lower dimension, maximizing the between-class separability **while minimising their within-class variability**"
   ]
  },
  {
   "cell_type": "code",
   "execution_count": 10,
   "metadata": {},
   "outputs": [
    {
     "name": "stdout",
     "output_type": "stream",
     "text": [
      "Between-class Scatter Matrix:(13, 13)\n",
      " [[ 72.549   10.1509  30.4349 -36.9554  21.4982  34.6692  31.1055 -18.3914\n",
      "   10.7602  51.4069  -7.5057  10.231   72.2652]\n",
      " [ 10.1509  39.0069  15.3272  22.8751   0.4806 -39.5667 -51.7325  31.3465\n",
      "  -32.6026  44.4773 -50.8565 -55.7604 -13.8346]\n",
      " [ 30.4349  15.3272  16.0274  -7.244    8.2744   1.4636  -3.4672   2.2736\n",
      "   -5.5304  32.5455 -17.8161 -12.5503  23.2642]\n",
      " [-36.9554  22.8751  -7.244   39.7512 -12.8366 -50.8027 -57.6929  34.678\n",
      "  -30.9313   1.6344 -33.3403 -47.886  -54.6782]\n",
      " [ 21.4982   0.4806   8.2744 -12.8366   6.5404  13.26    12.9885  -7.7306\n",
      "    5.482   12.7262   1.1248   6.8773  23.0242]\n",
      " [ 34.6692 -39.5667   1.4636 -50.8027  13.26    69.0574  81.1418 -48.873\n",
      "   45.4488 -19.4945  55.2712  72.475   62.8312]\n",
      " [ 31.1055 -51.7325  -3.4672 -57.6929  12.9885  81.1418  97.0227 -58.4985\n",
      "   55.5076 -33.5931  71.1001  89.7251  66.7143]\n",
      " [-18.3914  31.3465   2.2736  34.678   -7.7306 -48.873  -58.4985  35.2729\n",
      "  -33.5083  20.6153 -43.0446 -54.206  -39.9292]\n",
      " [ 10.7602 -32.6026  -5.5304 -30.9313   5.482   45.4488  55.5076 -33.5083\n",
      "   32.5474 -26.2095  44.0837  53.4164  32.4478]\n",
      " [ 51.4069  44.4773  32.5455   1.6344  12.7262 -19.4945 -33.5931  20.6153\n",
      "  -26.2095  73.4109 -54.7245 -49.4827  27.4525]\n",
      " [ -7.5057 -50.8565 -17.8161 -33.3403   1.1248  55.2712  71.1001 -43.0446\n",
      "   44.0837 -54.7245  66.7753  74.727   24.2543]\n",
      " [ 10.231  -55.7604 -12.5503 -47.886    6.8773  72.475   89.7251 -54.206\n",
      "   53.4164 -49.4827  74.727   88.4662  46.6269]\n",
      " [ 72.2652 -13.8346  23.2642 -54.6782  23.0242  62.8312  66.7143 -39.9292\n",
      "   32.4478  27.4525  24.2543  46.6269  87.2379]]\n"
     ]
    }
   ],
   "source": [
    "# Step 3.2: --> Construct the Between-class Scatter Matrix\n",
    "overal_average = np.mean(X_train_std, axis=0)\n",
    "\n",
    "S_B = np.zeros((n_features, n_features))\n",
    "\n",
    "for i, mv in enumerate(mean_vectors):\n",
    "    n = X_train[y_train == i + 1, :].shape[0]\n",
    "    mv = mv.reshape(n_features, 1) # column vector\n",
    "    overal_average = overal_average.reshape(n_features, 1)\n",
    "    \n",
    "    S_B += n * (mv - overal_average).dot((mv - overal_average).T)\n",
    "\n",
    "print ('Between-class Scatter Matrix:{}\\n {}'.format(S_B.shape, S_B))"
   ]
  },
  {
   "cell_type": "code",
   "execution_count": 11,
   "metadata": {},
   "outputs": [],
   "source": [
    "# Step 4: --> Compute eigenvectors and corresponding eigenvalues of Matrix\n",
    "\n",
    "# instead of performing eigendecomposition on the covariance matrix like in PCA, \n",
    "# we solve the generalized eigenvalue problem of the matrix S(w).S(b)\n",
    "\n",
    "eigen_vals, eigen_vecs = np.linalg.eig(np.linalg.inv(S_W).dot(S_B))"
   ]
  },
  {
   "cell_type": "code",
   "execution_count": 13,
   "metadata": {},
   "outputs": [
    {
     "name": "stdout",
     "output_type": "stream",
     "text": [
      "ok\n"
     ]
    }
   ],
   "source": [
    "for i in range(len(eigen_vals)):\n",
    "    eigv = eigen_vecs[:,i].reshape(n_features ,1) \n",
    "    np.testing.assert_array_almost_equal(np.linalg.inv(S_W).dot(S_B).dot(eigv), \n",
    "                                         eigen_vals[i] * eigv, \n",
    "                                         decimal=6, err_msg='', verbose=True)\n",
    "print('ok')"
   ]
  },
  {
   "cell_type": "code",
   "execution_count": 14,
   "metadata": {},
   "outputs": [
    {
     "name": "stdout",
     "output_type": "stream",
     "text": [
      "discr [0.7431924459744844, 0.2568075540255153, 1.7343072472683015e-16, 6.5605621439508e-17, 4.6657373152547295e-17, 2.2352325190860184e-17, 2.2352325190860184e-17, 5.549132693163771e-18, 5.549132693163771e-18, 4.359808798184487e-18, -1.7915305145446203e-17, -1.7915305145446203e-17, -5.596636627795896e-17]\n"
     ]
    },
    {
     "data": {
      "image/png": "[encoded data removed]",
      "text/plain": [
       "<Figure size 720x432 with 1 Axes>"
      ]
     },
     "metadata": {},
     "output_type": "display_data"
    }
   ],
   "source": [
    "# Step 5: --> Choose the k eigenvectors that correspond to the k largest eigenvalues\n",
    "eigen_pairs = [(np.abs(eigen_vals[i]), eigen_vecs[:, i]) for i in range(len(eigen_vals))]\n",
    "\n",
    "# sort by decreasing eigenvalues\n",
    "eigen_pairs = sorted(eigen_pairs, key=lambda x: x[0], reverse=True)\n",
    "\n",
    "# plot \n",
    "total = sum(eigen_vals.real)\n",
    "discr = [(i/ total) for i in sorted(eigen_vals.real, reverse=True)]\n",
    "cum_discr = np.cumsum(discr)\n",
    "print ('discr %s' % discr)\n",
    "\n",
    "from utilities import remove_borders\n",
    "fig, ax = plt.subplots(figsize=[10,6])\n",
    "\n",
    "ax.bar(range(1, 14), discr, alpha=0.5, align='center',\n",
    "       label='individual \"discriminability')\n",
    "ax.step(range(1, 14), cum_discr, where='mid', \n",
    "        label='cumulative \"discriminability')\n",
    "ax.set(ylabel = 'discriminability\" ratio', xlabel = 'Linear Discriminants')\n",
    "ax.legend(loc='best')\n",
    "remove_borders(ax)"
   ]
  },
  {
   "cell_type": "markdown",
   "metadata": {},
   "source": [
    "First 2 linear discriminants capture +/- 100% of the the useful information"
   ]
  },
  {
   "cell_type": "code",
   "execution_count": 15,
   "metadata": {},
   "outputs": [],
   "source": [
    "# construct the d x k-dim transformation matrix W\n",
    "W = np.hstack((eigen_pairs[0][1][:, np.newaxis].real, \n",
    "              eigen_pairs[1][1][:, np.newaxis].real))"
   ]
  },
  {
   "cell_type": "code",
   "execution_count": 16,
   "metadata": {},
   "outputs": [
    {
     "data": {
      "image/png": "[encoded data removed]",
      "text/plain": [
       "<Figure size 720x432 with 1 Axes>"
      ]
     },
     "metadata": {},
     "output_type": "display_data"
    }
   ],
   "source": [
    "# Step 6: --> project the samples onto the new feature subspace using the W-matrix\n",
    "X_train_lda = X_train_std.dot(W)\n",
    "colors = ['r', 'b', 'g']\n",
    "\n",
    "fig, ax = plt.subplots(figsize=[10,6])\n",
    "for label, color in zip(np.unique(y_train), colors):\n",
    "    ax.scatter(X_train_lda[y_train == label, 0] * (-1),\n",
    "                X_train_lda[y_train == label, 1] * (-1),\n",
    "                c=color, label=label, alpha=.7)\n",
    "\n",
    "ax.set(xlabel = 'Linear Discriminant 1', ylabel = 'Linear Discriminant 2',\n",
    "      title = 'projection onto the first 2 linear discriminants')\n",
    "ax.legend(loc='best', title='Labels')\n",
    "ax.xaxis.grid()\n",
    "remove_borders(ax)"
   ]
  }
 ],
 "metadata": {
  "kernelspec": {
   "display_name": "Python 3",
   "language": "python",
   "name": "python3"
  },
  "language_info": {
   "codemirror_mode": {
    "name": "ipython",
    "version": 3
   },
   "file_extension": ".py",
   "mimetype": "text/x-python",
   "name": "python",
   "nbconvert_exporter": "python",
   "pygments_lexer": "ipython3",
   "version": "3.6.4"
  }
 },
 "nbformat": 4,
 "nbformat_minor": 2
}
