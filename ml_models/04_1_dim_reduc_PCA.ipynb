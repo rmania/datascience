{
 "cells": [
  {
   "cell_type": "markdown",
   "metadata": {},
   "source": [
    "### Principal Component Analysis (Unsupervised)"
   ]
  },
  {
   "cell_type": "markdown",
   "metadata": {},
   "source": [
    "PCA aims to find the directions of maximum variance in a high-dimensional dataset and projects these into a new subspace with equal or fewer dims. The orthogonal axes (PC's) on the new subspace can be interpreted as the directions of maximum variance  given the constraint that the new feature axes are orthogonal (uncorrelated) to each other. \n",
    "\n",
    "The first PC will have the max variance and all consequent PC's will have the latgest possible variance given that they are uncorrelated (orthogonal) to the other PC's. PCA directions are highly sensitive to data scaling so we need to **standardize the features prior to PCA** if the features were measured on different scaled and we want to assign equal importance to all features.\n",
    "\n",
    "+ Step 1: --> standardize the d-dim dataset\n",
    "+ Step 2: --> construct covariance matrix\n",
    "+ Step 3: --> decompose the covariance matrix into its eigenvectors and eigenvalues\n",
    "+ Step 4: --> select k eigenvectors that correspond to the k largest eigenvalues where k = the subspace dim\n",
    "+ Step 5: --> construct a projection matrix W from the top k eigenvectors\n",
    "+ Step 6: --> transform the d-dim input dataset X using the projection matrix W to obtain a new k-dim subspace."
   ]
  },
  {
   "cell_type": "code",
   "execution_count": 1,
   "metadata": {},
   "outputs": [],
   "source": [
    "import pandas as pd\n",
    "import numpy as np\n",
    "import matplotlib.pyplot as plt\n",
    "from sklearn.model_selection import train_test_split\n",
    "import sys\n",
    "sys.path.insert(0, 'helper_functions/')"
   ]
  },
  {
   "cell_type": "code",
   "execution_count": 2,
   "metadata": {},
   "outputs": [
    {
     "data": {
      "text/html": [
       "<div>\n",
       "<style scoped>\n",
       "    .dataframe tbody tr th:only-of-type {\n",
       "        vertical-align: middle;\n",
       "    }\n",
       "\n",
       "    .dataframe tbody tr th {\n",
       "        vertical-align: top;\n",
       "    }\n",
       "\n",
       "    .dataframe thead th {\n",
       "        text-align: right;\n",
       "    }\n",
       "</style>\n",
       "<table border=\"1\" class=\"dataframe\">\n",
       "  <thead>\n",
       "    <tr style=\"text-align: right;\">\n",
       "      <th></th>\n",
       "      <th>Class label</th>\n",
       "      <th>Alcohol</th>\n",
       "      <th>Malic acid</th>\n",
       "      <th>Ash</th>\n",
       "      <th>Alcalinity of ash</th>\n",
       "      <th>Magnesium</th>\n",
       "      <th>Total phenols</th>\n",
       "      <th>Flavanoids</th>\n",
       "      <th>Nonflavanoid phenols</th>\n",
       "      <th>Proanthocyanins</th>\n",
       "      <th>Color intensity</th>\n",
       "      <th>Hue</th>\n",
       "      <th>OD280/OD315 of diluted wines</th>\n",
       "      <th>Proline</th>\n",
       "    </tr>\n",
       "  </thead>\n",
       "  <tbody>\n",
       "    <tr>\n",
       "      <th>0</th>\n",
       "      <td>1</td>\n",
       "      <td>14.23</td>\n",
       "      <td>1.71</td>\n",
       "      <td>2.43</td>\n",
       "      <td>15.6</td>\n",
       "      <td>127</td>\n",
       "      <td>2.80</td>\n",
       "      <td>3.06</td>\n",
       "      <td>0.28</td>\n",
       "      <td>2.29</td>\n",
       "      <td>5.64</td>\n",
       "      <td>1.04</td>\n",
       "      <td>3.92</td>\n",
       "      <td>1065</td>\n",
       "    </tr>\n",
       "    <tr>\n",
       "      <th>1</th>\n",
       "      <td>1</td>\n",
       "      <td>13.20</td>\n",
       "      <td>1.78</td>\n",
       "      <td>2.14</td>\n",
       "      <td>11.2</td>\n",
       "      <td>100</td>\n",
       "      <td>2.65</td>\n",
       "      <td>2.76</td>\n",
       "      <td>0.26</td>\n",
       "      <td>1.28</td>\n",
       "      <td>4.38</td>\n",
       "      <td>1.05</td>\n",
       "      <td>3.40</td>\n",
       "      <td>1050</td>\n",
       "    </tr>\n",
       "    <tr>\n",
       "      <th>2</th>\n",
       "      <td>1</td>\n",
       "      <td>13.16</td>\n",
       "      <td>2.36</td>\n",
       "      <td>2.67</td>\n",
       "      <td>18.6</td>\n",
       "      <td>101</td>\n",
       "      <td>2.80</td>\n",
       "      <td>3.24</td>\n",
       "      <td>0.30</td>\n",
       "      <td>2.81</td>\n",
       "      <td>5.68</td>\n",
       "      <td>1.03</td>\n",
       "      <td>3.17</td>\n",
       "      <td>1185</td>\n",
       "    </tr>\n",
       "    <tr>\n",
       "      <th>3</th>\n",
       "      <td>1</td>\n",
       "      <td>14.37</td>\n",
       "      <td>1.95</td>\n",
       "      <td>2.50</td>\n",
       "      <td>16.8</td>\n",
       "      <td>113</td>\n",
       "      <td>3.85</td>\n",
       "      <td>3.49</td>\n",
       "      <td>0.24</td>\n",
       "      <td>2.18</td>\n",
       "      <td>7.80</td>\n",
       "      <td>0.86</td>\n",
       "      <td>3.45</td>\n",
       "      <td>1480</td>\n",
       "    </tr>\n",
       "    <tr>\n",
       "      <th>4</th>\n",
       "      <td>1</td>\n",
       "      <td>13.24</td>\n",
       "      <td>2.59</td>\n",
       "      <td>2.87</td>\n",
       "      <td>21.0</td>\n",
       "      <td>118</td>\n",
       "      <td>2.80</td>\n",
       "      <td>2.69</td>\n",
       "      <td>0.39</td>\n",
       "      <td>1.82</td>\n",
       "      <td>4.32</td>\n",
       "      <td>1.04</td>\n",
       "      <td>2.93</td>\n",
       "      <td>735</td>\n",
       "    </tr>\n",
       "  </tbody>\n",
       "</table>\n",
       "</div>"
      ],
      "text/plain": [
       "   Class label  Alcohol  Malic acid   Ash  Alcalinity of ash  Magnesium  \\\n",
       "0            1    14.23        1.71  2.43               15.6        127   \n",
       "1            1    13.20        1.78  2.14               11.2        100   \n",
       "2            1    13.16        2.36  2.67               18.6        101   \n",
       "3            1    14.37        1.95  2.50               16.8        113   \n",
       "4            1    13.24        2.59  2.87               21.0        118   \n",
       "\n",
       "   Total phenols  Flavanoids  Nonflavanoid phenols  Proanthocyanins  \\\n",
       "0           2.80        3.06                  0.28             2.29   \n",
       "1           2.65        2.76                  0.26             1.28   \n",
       "2           2.80        3.24                  0.30             2.81   \n",
       "3           3.85        3.49                  0.24             2.18   \n",
       "4           2.80        2.69                  0.39             1.82   \n",
       "\n",
       "   Color intensity   Hue  OD280/OD315 of diluted wines  Proline  \n",
       "0             5.64  1.04                          3.92     1065  \n",
       "1             4.38  1.05                          3.40     1050  \n",
       "2             5.68  1.03                          3.17     1185  \n",
       "3             7.80  0.86                          3.45     1480  \n",
       "4             4.32  1.04                          2.93      735  "
      ]
     },
     "execution_count": 2,
     "metadata": {},
     "output_type": "execute_result"
    }
   ],
   "source": [
    "df_wine = pd.read_csv('https://raw.githubusercontent.com/rasbt/python-machine-learning-book/master/code/datasets/wine/wine.data', header=None)\n",
    "\n",
    "df_wine.columns = ['Class label', 'Alcohol', 'Malic acid', 'Ash', \n",
    "                   'Alcalinity of ash', 'Magnesium', 'Total phenols', \n",
    "                   'Flavanoids', 'Nonflavanoid phenols', 'Proanthocyanins', \n",
    "                   'Color intensity', 'Hue', 'OD280/OD315 of diluted wines', \n",
    "                   'Proline']\n",
    "df_wine.head()"
   ]
  },
  {
   "cell_type": "code",
   "execution_count": 4,
   "metadata": {},
   "outputs": [],
   "source": [
    "# Test, train set\n",
    "X = df_wine.iloc[:, 1:].values \n",
    "y = df_wine.iloc[:, 0].values\n",
    "\n",
    "X_train, X_test, y_train, y_test = train_test_split(X, y, test_size = 0.3, \n",
    "                                                    random_state = 0)"
   ]
  },
  {
   "cell_type": "markdown",
   "metadata": {},
   "source": [
    "### Manually construct a PCA. Steps: "
   ]
  },
  {
   "cell_type": "code",
   "execution_count": 5,
   "metadata": {},
   "outputs": [],
   "source": [
    "# Step 1: --> standardize the d-dim dataset\n",
    "from sklearn.preprocessing import StandardScaler\n",
    "sc = StandardScaler()\n",
    "X_train_std = sc.fit_transform(X_train)\n",
    "X_test_std = sc.fit_transform(X_test)"
   ]
  },
  {
   "cell_type": "markdown",
   "metadata": {},
   "source": [
    "Manually construct a PCA: \n",
    "Step 2: construct a $d x d$ **symmetric covariance matrix** where $d$ is the no of dims in the dataset and stores the pairwise covariances between the features.\n",
    "\n",
    "After step 1 we standardized and the sample means are zero. A positive covariance between 2 features indicate that they increase of decrease together. A negative covariance mean that the features vary in opposite directions."
   ]
  },
  {
   "cell_type": "code",
   "execution_count": 6,
   "metadata": {},
   "outputs": [],
   "source": [
    "# Step 2: --> construct covariance matrix\n",
    "from data_manipulation import calculate_covariance_matrix\n",
    "cov_mat = calculate_covariance_matrix(X_train_std)\n",
    "# cov_mat = np.cov(X_train_std.T)"
   ]
  },
  {
   "cell_type": "markdown",
   "metadata": {},
   "source": [
    "The eigenvectors of the co-variance matrix represent the PC's (the directions of maximum variance), whereas the corresponding eigenvalues will define their magnitide. In the wineset we would obtain 13 x 13 eigenvectors and eigenvalues from the covariance matrix."
   ]
  },
  {
   "cell_type": "code",
   "execution_count": 7,
   "metadata": {},
   "outputs": [
    {
     "name": "stdout",
     "output_type": "stream",
     "text": [
      "\n",
      "Eigenvalues: \n",
      "[4.8923083  2.46635032 1.42809973 1.01233462 0.84906459 0.60181514\n",
      " 0.52251546 0.08414846 0.33051429 0.29595018 0.16831254 0.21432212\n",
      " 0.2399553 ]. \n",
      "define the magnitude of the PCs. If we sum the Eigenvalues we have the total variance. Since the eigenvalues define the magnitude of the eigenvectors, we have to sort the eigenvalues by decreasing magnitude: we want the top k eigenvectors based in the values of their corresponding eigenvalues.\n",
      "\n",
      "First Eigenvectors: \n",
      "[ 1.46698114e-01  5.04170789e-01 -1.17235150e-01  2.06254611e-01\n",
      " -1.87815947e-01 -1.48851318e-01 -1.79263662e-01 -5.54687162e-02\n",
      " -4.03054922e-01 -4.17197583e-01  2.75660860e-01  4.03567189e-01\n",
      "  4.13320786e-04] \n",
      "represent the PCs (the directions of maximum variance)\n"
     ]
    }
   ],
   "source": [
    "# Step 3: -->decompose the covariance matrix into its eigenvectors and eigenvalues\n",
    "eigen_vals, eigen_vecs = np.linalg.eig(cov_mat)\n",
    "\n",
    "print('\\nEigenvalues: \\n%s. \\ndefine the magnitude of the PCs. If we sum the \\\n",
    "Eigenvalues we have the total variance. Since the eigenvalues define the magnitude \\\n",
    "of the eigenvectors, we have to sort the eigenvalues by decreasing magnitude: \\\n",
    "we want the top k eigenvectors based in the values of their corresponding eigenvalues.'\\\n",
    "      % eigen_vals)\n",
    "\n",
    "print('\\nFirst Eigenvectors: \\n%s \\nrepresent the PCs (the directions of maximum variance)' \\\n",
    "      % eigen_vecs[0])"
   ]
  },
  {
   "cell_type": "code",
   "execution_count": 8,
   "metadata": {},
   "outputs": [
    {
     "name": "stdout",
     "output_type": "stream",
     "text": [
      "cum_var_explained [0.37329648 0.56148574 0.67045365 0.74769754 0.81248349 0.85840362\n",
      " 0.89827298 0.92349212 0.94607393 0.96438317 0.98073654 0.99357924\n",
      " 1.        ]\n"
     ]
    },
    {
     "data": {
      "image/png": "[encoded data removed]",
      "text/plain": [
       "<Figure size 720x432 with 1 Axes>"
      ]
     },
     "metadata": {},
     "output_type": "display_data"
    }
   ],
   "source": [
    "# Step 4: --> select k eigenvectors corresponding to k-largest eigenvalues \n",
    "# where k = the subspace dim. Let's first plot\n",
    "total = sum(eigen_vals)\n",
    "var_explained = [(x / total) for x in sorted(eigen_vals, reverse=True)]\n",
    "cum_var_explained = np.cumsum(var_explained)\n",
    "print ('cum_var_explained %s' % cum_var_explained)\n",
    "\n",
    "from utilities import remove_borders\n",
    "fig, ax = plt.subplots(figsize=[10,6])\n",
    "\n",
    "ax.bar(range(1, 14), var_explained, alpha=0.5, align='center',\n",
    "       label='individual explained variance')\n",
    "ax.step(range(1, 14), cum_var_explained, where='mid', \n",
    "        label='cumulative explained variance')\n",
    "ax.set(ylabel = 'Explained variance ratio', xlabel = 'PC')\n",
    "ax.legend(loc='best')\n",
    "remove_borders(ax)"
   ]
  },
  {
   "cell_type": "code",
   "execution_count": 9,
   "metadata": {},
   "outputs": [],
   "source": [
    "## Now sort the eigenpairs by decreasing order of the eigenvalues:\n",
    "eigen_pairs = [(np.abs(eigen_vals[i]), eigen_vecs[:, i])\n",
    "               for i in range(len(eigen_vals))]\n",
    "\n",
    "# Sort the (eigenvalue, eigenvector) tuples from high to low\n",
    "eigen_pairs.sort(reverse=True)"
   ]
  },
  {
   "cell_type": "code",
   "execution_count": 10,
   "metadata": {},
   "outputs": [
    {
     "data": {
      "text/plain": [
       "[(4.89230830327374,\n",
       "  array([ 0.14669811, -0.24224554, -0.02993442, -0.25519002,  0.12079772,\n",
       "          0.38934455,  0.42326486, -0.30634956,  0.30572219, -0.09869191,\n",
       "          0.30032535,  0.36821154,  0.29259713])),\n",
       " (2.466350315759229,\n",
       "  array([ 0.50417079,  0.24216889,  0.28698484, -0.06468718,  0.22995385,\n",
       "          0.09363991,  0.01088622,  0.01870216,  0.03040352,  0.54527081,\n",
       "         -0.27924322, -0.174365  ,  0.36315461]))]"
      ]
     },
     "execution_count": 10,
     "metadata": {},
     "output_type": "execute_result"
    }
   ],
   "source": [
    "# top 2 eigen_pairs\n",
    "eigen_pairs[:2]"
   ]
  },
  {
   "cell_type": "code",
   "execution_count": 11,
   "metadata": {},
   "outputs": [
    {
     "name": "stdout",
     "output_type": "stream",
     "text": [
      "Matrix W:\n",
      " [[ 0.14669811  0.50417079]\n",
      " [-0.24224554  0.24216889]\n",
      " [-0.02993442  0.28698484]\n",
      " [-0.25519002 -0.06468718]\n",
      " [ 0.12079772  0.22995385]\n",
      " [ 0.38934455  0.09363991]\n",
      " [ 0.42326486  0.01088622]\n",
      " [-0.30634956  0.01870216]\n",
      " [ 0.30572219  0.03040352]\n",
      " [-0.09869191  0.54527081]\n",
      " [ 0.30032535 -0.27924322]\n",
      " [ 0.36821154 -0.174365  ]\n",
      " [ 0.29259713  0.36315461]]\n"
     ]
    }
   ],
   "source": [
    "# Step 5: --> construct a projection matrix W from the top 2 k eigenvectors\n",
    "\n",
    "# In this case: a 13 * 2 projection matrix W from the top 2 eigenvectors.\n",
    "\n",
    "W = np.hstack((eigen_pairs[0][1][:, np.newaxis], \n",
    "               eigen_pairs[1][1][:, np.newaxis]))\n",
    "print('Matrix W:\\n', W)"
   ]
  },
  {
   "cell_type": "code",
   "execution_count": 12,
   "metadata": {},
   "outputs": [
    {
     "name": "stdout",
     "output_type": "stream",
     "text": [
      "first element from standardized training set:\n",
      "[ 0.91083058 -0.46259897 -0.01142613 -0.82067872  0.06241693  0.58820446\n",
      "  0.93565436 -0.7619138   0.13007174 -0.51238741  0.65706596  1.94354495\n",
      "  0.93700997]\n",
      "transformed into PC:\n",
      "[2.59891628 0.00484089]\n"
     ]
    }
   ],
   "source": [
    "# Step 6: -->transform d-dim input dataset X using the projection matrix W \n",
    "# to obtain a new k-dim subspace\n",
    "\n",
    "# Take sample vector from the standardized training set :\n",
    "\n",
    "print ('first element from standardized training set:\\n{}\\ntransformed into \\\n",
    "PC:\\n{}'.format(X_train_std[0] ,X_train_std[0].dot(W)))"
   ]
  },
  {
   "cell_type": "code",
   "execution_count": 13,
   "metadata": {},
   "outputs": [
    {
     "data": {
      "image/png": "[encoded data removed]",
      "text/plain": [
       "<Figure size 720x432 with 1 Axes>"
      ]
     },
     "metadata": {},
     "output_type": "display_data"
    }
   ],
   "source": [
    "# tranform the whole set:\n",
    "X_train_pca =  X_train_std.dot(W)\n",
    "colors = ['r', 'b', 'g']\n",
    "markers = ['s', 'x', 'o']\n",
    "\n",
    "fig, ax = plt.subplots(figsize=[10,6])\n",
    "\n",
    "for l,c,m in zip(np.unique(y_train), colors, markers):\n",
    "    ax.scatter(X_train_pca[y_train == l, 0], \n",
    "               X_train_pca[y_train == l, 1], \n",
    "               c=c, label=l, marker=m)\n",
    "ax.set(xlabel = 'PC1', ylabel = 'PC 2')\n",
    "ax.legend(loc='lower left')\n",
    "remove_borders(ax)"
   ]
  }
 ],
 "metadata": {
  "kernelspec": {
   "display_name": "Python 3",
   "language": "python",
   "name": "python3"
  },
  "language_info": {
   "codemirror_mode": {
    "name": "ipython",
    "version": 3
   },
   "file_extension": ".py",
   "mimetype": "text/x-python",
   "name": "python",
   "nbconvert_exporter": "python",
   "pygments_lexer": "ipython3",
   "version": "3.6.4"
  }
 },
 "nbformat": 4,
 "nbformat_minor": 2
}
