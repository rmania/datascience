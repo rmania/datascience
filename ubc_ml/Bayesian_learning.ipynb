{
 "cells": [
  {
   "cell_type": "markdown",
   "metadata": {},
   "source": [
    "# Bayesian_learning\n",
    "\n",
    "\n",
    "**Notebook putting the excellent Machine lectures of Nando de Freitas in code/(LA)tex(t). **\n",
    "We are dealing with Bayesian learning.\n",
    "\n",
    "- Learn how Bayes rule is derived.\n",
    "- apply Bayes rule \n",
    "- apply Bayesian learning to linear models\n",
    "- the mechanics of conjugate analysis.\n",
    "\n",
    "slides on:\n",
    "http://www.cs.ubc.ca/~nando/540-2013/lectures/l5.pdf"
   ]
  },
  {
   "cell_type": "code",
   "execution_count": null,
   "metadata": {
    "collapsed": true
   },
   "outputs": [],
   "source": []
  }
 ],
 "metadata": {
  "kernelspec": {
   "display_name": "Python [Root]",
   "language": "python",
   "name": "Python [Root]"
  },
  "language_info": {
   "codemirror_mode": {
    "name": "ipython",
    "version": 3
   },
   "file_extension": ".py",
   "mimetype": "text/x-python",
   "name": "python",
   "nbconvert_exporter": "python",
   "pygments_lexer": "ipython3",
   "version": "3.5.2"
  }
 },
 "nbformat": 4,
 "nbformat_minor": 0
}
